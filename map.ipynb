{
 "cells": [
  {
   "cell_type": "code",
   "execution_count": null,
   "metadata": {},
   "outputs": [
    {
     "name": "stdout",
     "output_type": "stream",
     "text": [
      "Dimensiones de la imagen: 3601 x 3601\n",
      "Número total de píxeles: 12967201\n"
     ]
    }
   ],
   "source": [
    "import rasterio\n",
    "import numpy as np\n",
    "import plotly.graph_objects as go\n",
    "\n",
    "# Read the HGT file\n",
    "hgt_file = 'S16W074.hgt'\n",
    "with rasterio.open(hgt_file) as dataset:\n",
    "    elevation_data = dataset.read(1)\n",
    "    transform = dataset.transform\n",
    "\n",
    "# Handle missing data\n",
    "elevation_data = np.where(elevation_data == dataset.nodata, np.nan, elevation_data)\n",
    "\n",
    "# Generate grid\n",
    "nrows, ncols = elevation_data.shape\n",
    "\n",
    "# Calcular y mostrar dimensiones y número de píxeles\n",
    "total_pixels = nrows * ncols\n",
    "print(f\"Dimensiones de la imagen: {nrows} x {ncols}\")\n",
    "print(f\"Número total de píxeles: {total_pixels}\")\n",
    "\n",
    "x_indices = np.arange(ncols)\n",
    "y_indices = np.arange(nrows)\n",
    "lon_grid, lat_grid = np.meshgrid(\n",
    "    np.linspace(transform.c, transform.c + transform.a * ncols, ncols),\n",
    "    np.linspace(transform.f, transform.f + transform.e * nrows, nrows)\n",
    ")\n",
    "\n",
    "# Create the 3D plot\n",
    "fig = go.Figure(go.Surface(\n",
    "    x=lon_grid,\n",
    "    y=lat_grid,\n",
    "    z=elevation_data,\n",
    "    colorscale='Viridis',\n",
    "    showscale=True\n",
    "))\n",
    "\n",
    "fig.update_layout(\n",
    "    title='3D Elevation Map',\n",
    "    scene=dict(\n",
    "        xaxis_title='Longitude',\n",
    "        yaxis_title='Latitude',\n",
    "        zaxis_title='Elevation (m)'\n",
    "    ),\n",
    "    autosize=True,\n",
    "    width=1920,\n",
    "    height=1080,\n",
    "    margin=dict(l=65, r=50, b=65, t=90)\n",
    ")\n",
    "\n",
    "fig.show()\n"
   ]
  },
  {
   "cell_type": "code",
   "execution_count": null,
   "metadata": {},
   "outputs": [],
   "source": []
  }
 ],
 "metadata": {
  "kernelspec": {
   "display_name": "Python 3",
   "language": "python",
   "name": "python3"
  },
  "language_info": {
   "codemirror_mode": {
    "name": "ipython",
    "version": 3
   },
   "file_extension": ".py",
   "mimetype": "text/x-python",
   "name": "python",
   "nbconvert_exporter": "python",
   "pygments_lexer": "ipython3",
   "version": "3.12.3"
  }
 },
 "nbformat": 4,
 "nbformat_minor": 2
}
